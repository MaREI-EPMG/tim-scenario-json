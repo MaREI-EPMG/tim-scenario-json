{
 "cells": [
  {
   "cell_type": "markdown",
   "metadata": {
    "collapsed": true
   },
   "source": [
    "# Create Scenario JSON Files"
   ]
  },
  {
   "cell_type": "code",
   "execution_count": 1,
   "metadata": {},
   "outputs": [],
   "source": [
    "import pathlib\n",
    "import json\n",
    "import pandas as pd\n",
    "from tkinter import filedialog\n",
    "from tkinter import Tk\n",
    "from timeslib.misc import read_data_csv"
   ]
  },
  {
   "cell_type": "markdown",
   "metadata": {},
   "source": [
    "### Specify input folder"
   ]
  },
  {
   "cell_type": "code",
   "execution_count": 2,
   "metadata": {},
   "outputs": [],
   "source": [
    "root=Tk()\n",
    "input_folder = pathlib.Path(filedialog.askdirectory(title=\"Select input folder...\"), parent=root, master=root)\n",
    "root.destroy()"
   ]
  },
  {
   "cell_type": "markdown",
   "metadata": {},
   "source": [
    "### Specify output folder"
   ]
  },
  {
   "cell_type": "code",
   "execution_count": 3,
   "metadata": {},
   "outputs": [],
   "source": [
    "root=Tk()\n",
    "output_folder = pathlib.Path(filedialog.askdirectory(title=\"Select output folder...\"), parent=root, master=root)\n",
    "root.destroy()"
   ]
  },
  {
   "cell_type": "markdown",
   "metadata": {},
   "source": [
    "### Load table info"
   ]
  },
  {
   "cell_type": "code",
   "execution_count": 4,
   "metadata": {},
   "outputs": [],
   "source": [
    "with open(\"./tim-tables-info/table_info.json\", \"r\") as file:\n",
    "    table_info = json.load(file)"
   ]
  },
  {
   "cell_type": "code",
   "execution_count": 5,
   "metadata": {},
   "outputs": [],
   "source": [
    "with open(\"./tim-tables-info/colours.json\", \"r\") as file:\n",
    "    colours_info = json.load(file)"
   ]
  },
  {
   "cell_type": "code",
   "execution_count": 6,
   "metadata": {},
   "outputs": [
    {
     "name": "stdout",
     "output_type": "stream",
     "text": [
      "Found 76 csv files.\n",
      "C:\\Users\\rbsul\\Documents\\GitHub\\tim-scenario-json\\Input\\AGR_FEC.csv\n",
      "C:\\Users\\rbsul\\Documents\\GitHub\\tim-scenario-json\\Input\\AGR_FuelPrice.csv\n",
      "C:\\Users\\rbsul\\Documents\\GitHub\\tim-scenario-json\\Input\\AGR_NRG-BIO-PRIME.csv\n",
      "C:\\Users\\rbsul\\Documents\\GitHub\\tim-scenario-json\\Input\\AGR_NRG-BIO-PRIME_SEAI.csv\n",
      "C:\\Users\\rbsul\\Documents\\GitHub\\tim-scenario-json\\Input\\Check_Dummy.csv\n",
      "C:\\Users\\rbsul\\Documents\\GitHub\\tim-scenario-json\\Input\\IND_Emissions-CO2.csv\n",
      "C:\\Users\\rbsul\\Documents\\GitHub\\tim-scenario-json\\Input\\IND_FEC.csv\n",
      "C:\\Users\\rbsul\\Documents\\GitHub\\tim-scenario-json\\Input\\IND_FEC_Sector.csv\n",
      "C:\\Users\\rbsul\\Documents\\GitHub\\tim-scenario-json\\Input\\IND_FuelPrice.csv\n",
      "C:\\Users\\rbsul\\Documents\\GitHub\\tim-scenario-json\\Input\\PWR_Cap-N.csv\n",
      "C:\\Users\\rbsul\\Documents\\GitHub\\tim-scenario-json\\Input\\PWR_Cap.csv\n",
      "C:\\Users\\rbsul\\Documents\\GitHub\\tim-scenario-json\\Input\\PWR_Emissions-CO2.csv\n",
      "C:\\Users\\rbsul\\Documents\\GitHub\\tim-scenario-json\\Input\\PWR_FuelPrice.csv\n",
      "C:\\Users\\rbsul\\Documents\\GitHub\\tim-scenario-json\\Input\\PWR_Gen-ELCC.csv\n",
      "C:\\Users\\rbsul\\Documents\\GitHub\\tim-scenario-json\\Input\\PWR_Gen-HETC.csv\n",
      "C:\\Users\\rbsul\\Documents\\GitHub\\tim-scenario-json\\Input\\RSD_BLD-N_TYPE.csv\n",
      "C:\\Users\\rbsul\\Documents\\GitHub\\tim-scenario-json\\Input\\RSD_BLD_TYPE.csv\n",
      "C:\\Users\\rbsul\\Documents\\GitHub\\tim-scenario-json\\Input\\RSD_CK_TYPE.csv\n",
      "C:\\Users\\rbsul\\Documents\\GitHub\\tim-scenario-json\\Input\\RSD_FEC.csv\n",
      "C:\\Users\\rbsul\\Documents\\GitHub\\tim-scenario-json\\Input\\RSD_FuelPrice.csv\n",
      "C:\\Users\\rbsul\\Documents\\GitHub\\tim-scenario-json\\Input\\RSD_RTFT-APT_NCAP.csv\n",
      "C:\\Users\\rbsul\\Documents\\GitHub\\tim-scenario-json\\Input\\RSD_RTFT-ATT_NCAP.csv\n",
      "C:\\Users\\rbsul\\Documents\\GitHub\\tim-scenario-json\\Input\\RSD_RTFT-DET_NCAP.csv\n",
      "C:\\Users\\rbsul\\Documents\\GitHub\\tim-scenario-json\\Input\\RSD_RTFT_NRG_SAVINGS.csv\n",
      "C:\\Users\\rbsul\\Documents\\GitHub\\tim-scenario-json\\Input\\RSD_Services_CO2Emissions.csv\n",
      "C:\\Users\\rbsul\\Documents\\GitHub\\tim-scenario-json\\Input\\RSD_Services_EnergyCons.csv\n",
      "C:\\Users\\rbsul\\Documents\\GitHub\\tim-scenario-json\\Input\\RSD_WS-APT_FuelCons.csv\n",
      "C:\\Users\\rbsul\\Documents\\GitHub\\tim-scenario-json\\Input\\RSD_WS-APT_NCAP.csv\n",
      "C:\\Users\\rbsul\\Documents\\GitHub\\tim-scenario-json\\Input\\RSD_WS-ATT_FuelCons.csv\n",
      "C:\\Users\\rbsul\\Documents\\GitHub\\tim-scenario-json\\Input\\RSD_WS-ATT_NCAP.csv\n",
      "C:\\Users\\rbsul\\Documents\\GitHub\\tim-scenario-json\\Input\\RSD_WS-DET_FuelCons.csv\n",
      "C:\\Users\\rbsul\\Documents\\GitHub\\tim-scenario-json\\Input\\RSD_WS-DET_NCAP.csv\n",
      "C:\\Users\\rbsul\\Documents\\GitHub\\tim-scenario-json\\Input\\SRV-DCs_EH.csv\n",
      "C:\\Users\\rbsul\\Documents\\GitHub\\tim-scenario-json\\Input\\SRV-DCs_EH_DH-Grid.csv\n",
      "C:\\Users\\rbsul\\Documents\\GitHub\\tim-scenario-json\\Input\\SRV_FEC.csv\n",
      "C:\\Users\\rbsul\\Documents\\GitHub\\tim-scenario-json\\Input\\SRV_FEC_Service.csv\n",
      "C:\\Users\\rbsul\\Documents\\GitHub\\tim-scenario-json\\Input\\SRV_FuelPrice.csv\n",
      "C:\\Users\\rbsul\\Documents\\GitHub\\tim-scenario-json\\Input\\SUP_BIODST.csv\n",
      "C:\\Users\\rbsul\\Documents\\GitHub\\tim-scenario-json\\Input\\SUP_BIOETH.csv\n",
      "C:\\Users\\rbsul\\Documents\\GitHub\\tim-scenario-json\\Input\\SUP_BIOGAS.csv\n",
      "C:\\Users\\rbsul\\Documents\\GitHub\\tim-scenario-json\\Input\\SUP_HYDROGEN.csv\n",
      "C:\\Users\\rbsul\\Documents\\GitHub\\tim-scenario-json\\Input\\SYS_CO2Price.csv\n",
      "C:\\Users\\rbsul\\Documents\\GitHub\\tim-scenario-json\\Input\\SYS_Cost_Sector.csv\n",
      "C:\\Users\\rbsul\\Documents\\GitHub\\tim-scenario-json\\Input\\SYS_Cost_Type.csv\n",
      "C:\\Users\\rbsul\\Documents\\GitHub\\tim-scenario-json\\Input\\SYS_DACS.csv\n",
      "C:\\Users\\rbsul\\Documents\\GitHub\\tim-scenario-json\\Input\\SYS_Emissions_CH4.csv\n",
      "C:\\Users\\rbsul\\Documents\\GitHub\\tim-scenario-json\\Input\\SYS_Emissions_CO2.csv\n",
      "C:\\Users\\rbsul\\Documents\\GitHub\\tim-scenario-json\\Input\\SYS_Emissions_N2O.csv\n",
      "C:\\Users\\rbsul\\Documents\\GitHub\\tim-scenario-json\\Input\\SYS_FEC_Fuel.csv\n",
      "C:\\Users\\rbsul\\Documents\\GitHub\\tim-scenario-json\\Input\\SYS_FEC_Fuel_SEAI.csv\n",
      "C:\\Users\\rbsul\\Documents\\GitHub\\tim-scenario-json\\Input\\SYS_FEC_Sector.csv\n",
      "C:\\Users\\rbsul\\Documents\\GitHub\\tim-scenario-json\\Input\\SYS_LumpInv_Sector.csv\n",
      "C:\\Users\\rbsul\\Documents\\GitHub\\tim-scenario-json\\Input\\SYS_NRG-Export.csv\n",
      "C:\\Users\\rbsul\\Documents\\GitHub\\tim-scenario-json\\Input\\SYS_NRG-Export_SEAI.csv\n",
      "C:\\Users\\rbsul\\Documents\\GitHub\\tim-scenario-json\\Input\\SYS_NRG-Import.csv\n",
      "C:\\Users\\rbsul\\Documents\\GitHub\\tim-scenario-json\\Input\\SYS_NRG-Import_SEAI.csv\n",
      "C:\\Users\\rbsul\\Documents\\GitHub\\tim-scenario-json\\Input\\SYS_NRG-Mining.csv\n",
      "C:\\Users\\rbsul\\Documents\\GitHub\\tim-scenario-json\\Input\\SYS_NRG-Mining_SEAI.csv\n",
      "C:\\Users\\rbsul\\Documents\\GitHub\\tim-scenario-json\\Input\\SysCost.csv\n",
      "C:\\Users\\rbsul\\Documents\\GitHub\\tim-scenario-json\\Input\\TRA-Land_LumpInv.csv\n",
      "C:\\Users\\rbsul\\Documents\\GitHub\\tim-scenario-json\\Input\\TRA_Emissions-CO2.csv\n",
      "C:\\Users\\rbsul\\Documents\\GitHub\\tim-scenario-json\\Input\\TRA_F-HTRUCK-N_TYPE.csv\n",
      "C:\\Users\\rbsul\\Documents\\GitHub\\tim-scenario-json\\Input\\TRA_F-HTRUCK_TYPE.csv\n",
      "C:\\Users\\rbsul\\Documents\\GitHub\\tim-scenario-json\\Input\\TRA_F-LTRUCK-N_TYPE.csv\n",
      "C:\\Users\\rbsul\\Documents\\GitHub\\tim-scenario-json\\Input\\TRA_F-LTRUCK_TYPE.csv\n",
      "C:\\Users\\rbsul\\Documents\\GitHub\\tim-scenario-json\\Input\\TRA_F-MTRUCK-N_TYPE.csv\n",
      "C:\\Users\\rbsul\\Documents\\GitHub\\tim-scenario-json\\Input\\TRA_F-MTRUCK_TYPE.csv\n",
      "C:\\Users\\rbsul\\Documents\\GitHub\\tim-scenario-json\\Input\\TRA_FEC.csv\n",
      "C:\\Users\\rbsul\\Documents\\GitHub\\tim-scenario-json\\Input\\TRA_FEC_Mode.csv\n",
      "C:\\Users\\rbsul\\Documents\\GitHub\\tim-scenario-json\\Input\\TRA_FEC_Mode_Detailed.csv\n",
      "C:\\Users\\rbsul\\Documents\\GitHub\\tim-scenario-json\\Input\\TRA_Freight_Land_Mode.csv\n",
      "C:\\Users\\rbsul\\Documents\\GitHub\\tim-scenario-json\\Input\\TRA_FuelPrice.csv\n",
      "C:\\Users\\rbsul\\Documents\\GitHub\\tim-scenario-json\\Input\\TRA_P-CAR-N_TYPE.csv\n",
      "C:\\Users\\rbsul\\Documents\\GitHub\\tim-scenario-json\\Input\\TRA_P-CAR_TYPE.csv\n",
      "C:\\Users\\rbsul\\Documents\\GitHub\\tim-scenario-json\\Input\\TRA_Passenger_Land_Distance.csv\n",
      "C:\\Users\\rbsul\\Documents\\GitHub\\tim-scenario-json\\Input\\TRA_Passenger_Land_Mode.csv\n"
     ]
    }
   ],
   "source": [
    "# get list of all input data files with a certain name extension\n",
    "path_list = sorted(input_folder.rglob(\"*.csv\"))\n",
    "print(\n",
    "    \"Found {} csv files.\\n\".format(len(path_list)),\n",
    "    \"\\n\".join(\"{}\".format(k) for k in path_list),\n",
    "    sep=\"\",\n",
    ")"
   ]
  },
  {
   "cell_type": "markdown",
   "metadata": {},
   "source": [
    "### Read csv data into a dataframe"
   ]
  },
  {
   "cell_type": "code",
   "execution_count": 7,
   "metadata": {},
   "outputs": [],
   "source": [
    "# Create an empty DataFrame\n",
    "data = pd.DataFrame()\n",
    "# Read data into the dataframe\n",
    "for a_table in table_info.keys():\n",
    "    for a_table_rule in table_info[a_table].keys():\n",
    "        file_path = input_folder/(a_table_rule + \".csv\")\n",
    "        if file_path.exists():\n",
    "            df = read_data_csv(file_path,\n",
    "                               {a_table_rule: table_info[a_table][a_table_rule]})\n",
    "            if df is not None:\n",
    "                df[\"tableName\"] = a_table\n",
    "                data = pd.concat([data, df], ignore_index=True)\n",
    "\n",
    "assert len(data.index), \"The dataframe is empty. No data has been read.\"\n",
    "\n",
    "data = data.groupby([i for i in data.columns if not i == \"total\"]).agg(\"sum\")\n",
    "data = data.reset_index()"
   ]
  },
  {
   "cell_type": "markdown",
   "metadata": {},
   "source": [
    "### Print to JSON files"
   ]
  },
  {
   "cell_type": "code",
   "execution_count": 8,
   "metadata": {},
   "outputs": [],
   "source": [
    "for aScenario in data[\"scenario\"].unique():\n",
    "    (output_folder/aScenario).mkdir(parents=True, exist_ok=True)\n",
    "    for aTable in data[data[\"scenario\"]==aScenario][\"tableName\"].unique():\n",
    "        data_dict = {\"name\": aScenario}\n",
    "        series_dict_list = list()\n",
    "        for aSeries in data[(data[\"scenario\"]==aScenario) &\n",
    "                            (data[\"tableName\"]==aTable)][\"seriesName\"].unique():\n",
    "            series_data = data[(data[\"scenario\"]==aScenario) &\n",
    "                               (data[\"tableName\"]==aTable) &\n",
    "                               (data[\"seriesName\"]==aSeries)][[\"year\",\"total\"]].to_dict(\"split\")[\"data\"]\n",
    "            series_dict_list += [{\"seriesName\": aSeries,\n",
    "                            \"seriesValues\": series_data}]\n",
    "        data_dict[\"data\"] = series_dict_list\n",
    "        with open(output_folder / aScenario / (aTable + \".json\"), \"w\", encoding=\"utf-8\") as file:\n",
    "            js_str = json.dumps(data_dict, indent=2)\n",
    "            file.write(js_str)"
   ]
  },
  {
   "cell_type": "code",
   "execution_count": 9,
   "metadata": {},
   "outputs": [],
   "source": [
    "charts_info = {}\n",
    "for aTable in data[\"tableName\"].unique():\n",
    "    seriesNames = list(data[(data[\"tableName\"] == aTable)][\"seriesName\"].unique())\n",
    "    seriesColours = [colours_info[item] if item in colours_info.keys() else \"#A020F0\" for item in seriesNames]\n",
    "    seriesUnit = data[(data[\"tableName\"] == aTable)][\"label\"].unique()[0]\n",
    "    charts_info[aTable] = {\n",
    "                \"seriesNames\": seriesNames,\n",
    "                \"colorScale\": seriesColours,\n",
    "                \"unit\": seriesUnit\n",
    "    }\n",
    "\n",
    "with open(output_folder / \"chartsInfo.json\", \"w\", encoding=\"utf-8\") as file:\n",
    "            js_str = json.dumps(charts_info, indent=2)\n",
    "            file.write(js_str)"
   ]
  },
  {
   "cell_type": "code",
   "execution_count": null,
   "metadata": {},
   "outputs": [],
   "source": []
  }
 ],
 "metadata": {
  "kernelspec": {
   "display_name": "Python 3 (ipykernel)",
   "language": "python",
   "name": "python3"
  },
  "language_info": {
   "codemirror_mode": {
    "name": "ipython",
    "version": 3
   },
   "file_extension": ".py",
   "mimetype": "text/x-python",
   "name": "python",
   "nbconvert_exporter": "python",
   "pygments_lexer": "ipython3",
   "version": "3.9.13"
  }
 },
 "nbformat": 4,
 "nbformat_minor": 1
}
