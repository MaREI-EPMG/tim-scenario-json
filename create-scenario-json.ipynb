{
 "cells": [
  {
   "cell_type": "markdown",
   "metadata": {
    "collapsed": true
   },
   "source": [
    "# Create Scenario JSON Files"
   ]
  },
  {
   "cell_type": "code",
   "execution_count": 1,
   "metadata": {},
   "outputs": [],
   "source": [
    "import pathlib\n",
    "import json\n",
    "import pandas as pd\n",
    "from tkinter import filedialog\n",
    "from tkinter import Tk\n",
    "from timeslib.misc import read_data_csv"
   ]
  },
  {
   "cell_type": "markdown",
   "metadata": {},
   "source": [
    "### Specify input folder"
   ]
  },
  {
   "cell_type": "code",
   "source": [
    "root=Tk()\n",
    "input_folder = pathlib.Path(filedialog.askdirectory(title=\"Select input folder...\"), parent=root, master=root)\n",
    "root.destroy()"
   ],
   "metadata": {
    "collapsed": false
   },
   "execution_count": 2,
   "outputs": []
  },
  {
   "cell_type": "markdown",
   "metadata": {},
   "source": [
    "### Specify output folder"
   ]
  },
  {
   "cell_type": "code",
   "execution_count": 3,
   "metadata": {},
   "outputs": [],
   "source": [
    "root=Tk()\n",
    "output_folder = pathlib.Path(filedialog.askdirectory(title=\"Select output folder...\"), parent=root, master=root)\n",
    "root.destroy()"
   ]
  },
  {
   "cell_type": "markdown",
   "metadata": {},
   "source": [
    "### Load table info"
   ]
  },
  {
   "cell_type": "code",
   "execution_count": 4,
   "metadata": {},
   "outputs": [],
   "source": [
    "with open(\"./tim-tables-info/table_info.json\", \"r\") as file:\n",
    "    table_info = json.load(file)"
   ]
  },
  {
   "cell_type": "code",
   "execution_count": 5,
   "outputs": [],
   "source": [
    "with open(\"./tim-tables-info/colours.json\", \"r\") as file:\n",
    "    colours_info = json.load(file)"
   ],
   "metadata": {
    "collapsed": false
   }
  },
  {
   "cell_type": "code",
   "execution_count": 6,
   "metadata": {},
   "outputs": [],
   "source": [
    "# get list of all input data files with a certain name extension\n",
    "path_list = sorted(input_folder.rglob(\"*.csv\"))\n",
    "print(\n",
    "    \"Found {} csv files.\\n\".format(len(path_list)),\n",
    "    \"\\n\".join(\"{}\".format(k) for k in path_list),\n",
    "    sep=\"\",\n",
    ")"
   ]
  },
  {
   "cell_type": "markdown",
   "source": [
    "### Read csv data into a dataframe"
   ],
   "metadata": {
    "collapsed": false
   }
  },
  {
   "cell_type": "code",
   "execution_count": 7,
   "outputs": [],
   "source": [
    "# Create an empty DataFrame\n",
    "data = pd.DataFrame()\n",
    "# Read data into the dataframe\n",
    "for a_table in table_info.keys():\n",
    "    for a_table_rule in table_info[a_table].keys():\n",
    "        file_path = input_folder/(a_table_rule + \".csv\")\n",
    "        if file_path.exists():\n",
    "            df = read_data_csv(file_path,\n",
    "                               {a_table_rule: table_info[a_table][a_table_rule]})\n",
    "            if df is not None:\n",
    "                df[\"tableName\"] = a_table\n",
    "                data = pd.concat([data, df], ignore_index=True)\n",
    "\n",
    "assert len(data.index), \"The dataframe is empty. No data has been read.\"\n",
    "\n",
    "data = data.groupby([i for i in data.columns if not i == \"total\"]).agg(\"sum\")\n",
    "data = data.reset_index()"
   ],
   "metadata": {
    "collapsed": false
   }
  },
  {
   "cell_type": "markdown",
   "source": [
    "### Print to JSON files"
   ],
   "metadata": {
    "collapsed": false
   }
  },
  {
   "cell_type": "code",
   "execution_count": 8,
   "outputs": [],
   "source": [
    "for aScenario in data[\"scenario\"].unique():\n",
    "    (output_folder/aScenario).mkdir(parents=True, exist_ok=True)\n",
    "    for aTable in data[data[\"scenario\"]==aScenario][\"tableName\"].unique():\n",
    "        data_dict = {\"name\": aScenario}\n",
    "        series_dict_list = list()\n",
    "        for aSeries in data[(data[\"scenario\"]==aScenario) &\n",
    "                            (data[\"tableName\"]==aTable)][\"seriesName\"].unique():\n",
    "            series_data = data[(data[\"scenario\"]==aScenario) &\n",
    "                               (data[\"tableName\"]==aTable) &\n",
    "                               (data[\"seriesName\"]==aSeries)][[\"year\",\"total\"]].to_dict(\"split\")[\"data\"]\n",
    "            series_dict_list += [{\"seriesName\": aSeries,\n",
    "                            \"seriesValues\": series_data}]\n",
    "        data_dict[\"data\"] = series_dict_list\n",
    "        with open(output_folder / aScenario / (aTable + \".json\"), \"w\", encoding=\"utf-8\") as file:\n",
    "            js_str = json.dumps(data_dict, indent=2)\n",
    "            file.write(js_str)"
   ],
   "metadata": {
    "collapsed": false
   }
  },
  {
   "cell_type": "code",
   "execution_count": 9,
   "outputs": [],
   "source": [
    "charts_info = {}\n",
    "for aTable in data[\"tableName\"].unique():\n",
    "    seriesNames = list(data[(data[\"tableName\"] == aTable)][\"seriesName\"].unique())\n",
    "    seriesColours = [colours_info[item] if item in colours_info.keys() else \"#A020F0\" for item in seriesNames]\n",
    "    seriesUnit = data[(data[\"tableName\"] == aTable)][\"label\"].unique()[0]\n",
    "    charts_info[aTable] = {\n",
    "                \"seriesNames\": seriesNames,\n",
    "                \"colorScale\": seriesColours,\n",
    "                \"unit\": seriesUnit\n",
    "    }\n",
    "\n",
    "with open(output_folder / \"chartsInfo.json\", \"w\", encoding=\"utf-8\") as file:\n",
    "            js_str = json.dumps(charts_info, indent=2)\n",
    "            file.write(js_str)"
   ],
   "metadata": {
    "collapsed": false
   }
  }
 ],
 "metadata": {
  "kernelspec": {
   "display_name": "Python 3 (ipykernel)",
   "language": "python",
   "name": "python3"
  },
  "language_info": {
   "codemirror_mode": {
    "name": "ipython",
    "version": 3
   },
   "file_extension": ".py",
   "mimetype": "text/x-python",
   "name": "python",
   "nbconvert_exporter": "python",
   "pygments_lexer": "ipython3",
   "version": "3.9.9"
  }
 },
 "nbformat": 4,
 "nbformat_minor": 1
}
